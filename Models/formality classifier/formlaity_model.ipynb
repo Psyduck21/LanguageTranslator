{
  "cells": [
    {
      "cell_type": "code",
      "execution_count": 1,
      "metadata": {
        "id": "7MiRpleXU1nE"
      },
      "outputs": [],
      "source": [
        "import numpy as np\n",
        "import pandas as pd\n",
        "from sklearn.model_selection import GridSearchCV, StratifiedKFold\n",
        "from sklearn.metrics import accuracy_score, ConfusionMatrixDisplay, confusion_matrix,classification_report\n",
        "import matplotlib.pyplot as plt\n",
        "import warnings\n",
        "warnings.filterwarnings('ignore')"
      ]
    },
    {
      "cell_type": "code",
      "execution_count": 2,
      "metadata": {
        "id": "03A38kLRE0Hc"
      },
      "outputs": [],
      "source": [
        "splits = {'train': 'train.csv', 'test': 'test.csv'}\n",
        "df_train = pd.read_csv(\"hf://datasets/osyvokon/pavlick-formality-scores/\" + splits[\"train\"])\n",
        "df_test = pd.read_csv(\"hf://datasets/osyvokon/pavlick-formality-scores/\" + splits[\"test\"])\n"
      ]
    },
    {
      "cell_type": "code",
      "execution_count": 3,
      "metadata": {
        "colab": {
          "base_uri": "https://localhost:8080/",
          "height": 206
        },
        "id": "tWU0A2VqZJRq",
        "outputId": "2f6cdc9b-cdda-4535-eb94-f678e1586eda"
      },
      "outputs": [
        {
          "data": {
            "text/html": [
              "<div>\n",
              "<style scoped>\n",
              "    .dataframe tbody tr th:only-of-type {\n",
              "        vertical-align: middle;\n",
              "    }\n",
              "\n",
              "    .dataframe tbody tr th {\n",
              "        vertical-align: top;\n",
              "    }\n",
              "\n",
              "    .dataframe thead th {\n",
              "        text-align: right;\n",
              "    }\n",
              "</style>\n",
              "<table border=\"1\" class=\"dataframe\">\n",
              "  <thead>\n",
              "    <tr style=\"text-align: right;\">\n",
              "      <th></th>\n",
              "      <th>domain</th>\n",
              "      <th>avg_score</th>\n",
              "      <th>sentence</th>\n",
              "    </tr>\n",
              "  </thead>\n",
              "  <tbody>\n",
              "    <tr>\n",
              "      <th>0</th>\n",
              "      <td>news</td>\n",
              "      <td>-0.6</td>\n",
              "      <td>Tang was employed at private-equity firm Fried...</td>\n",
              "    </tr>\n",
              "    <tr>\n",
              "      <th>1</th>\n",
              "      <td>news</td>\n",
              "      <td>1.0</td>\n",
              "      <td>San Francisco Mayor Gavin Newsom's withdrawal ...</td>\n",
              "    </tr>\n",
              "    <tr>\n",
              "      <th>2</th>\n",
              "      <td>answers</td>\n",
              "      <td>-2.8</td>\n",
              "      <td>lol nothing worrying about that.</td>\n",
              "    </tr>\n",
              "    <tr>\n",
              "      <th>3</th>\n",
              "      <td>news</td>\n",
              "      <td>0.0</td>\n",
              "      <td>She told Price she wanted to join the Police E...</td>\n",
              "    </tr>\n",
              "    <tr>\n",
              "      <th>4</th>\n",
              "      <td>news</td>\n",
              "      <td>1.8</td>\n",
              "      <td>The prime minister is keen to use the autumn p...</td>\n",
              "    </tr>\n",
              "  </tbody>\n",
              "</table>\n",
              "</div>"
            ],
            "text/plain": [
              "    domain  avg_score                                           sentence\n",
              "0     news       -0.6  Tang was employed at private-equity firm Fried...\n",
              "1     news        1.0  San Francisco Mayor Gavin Newsom's withdrawal ...\n",
              "2  answers       -2.8                   lol nothing worrying about that.\n",
              "3     news        0.0  She told Price she wanted to join the Police E...\n",
              "4     news        1.8  The prime minister is keen to use the autumn p..."
            ]
          },
          "execution_count": 3,
          "metadata": {},
          "output_type": "execute_result"
        }
      ],
      "source": [
        "df_train.head()"
      ]
    },
    {
      "cell_type": "code",
      "execution_count": 4,
      "metadata": {
        "colab": {
          "base_uri": "https://localhost:8080/",
          "height": 489
        },
        "id": "A-2DVBpjZJRr",
        "outputId": "6fa1df23-6286-455e-f3da-27ff2e6b9a99"
      },
      "outputs": [
        {
          "data": {
            "text/plain": [
              "avg_score\n",
              " 1.000000    507\n",
              " 0.000000    495\n",
              " 0.800000    492\n",
              " 0.600000    475\n",
              " 0.400000    473\n",
              "            ... \n",
              " 3.000000      6\n",
              "-2.666667      6\n",
              " 2.666667      6\n",
              " 1.333333      4\n",
              " 2.333333      1\n",
              "Name: count, Length: 61, dtype: int64"
            ]
          },
          "execution_count": 4,
          "metadata": {},
          "output_type": "execute_result"
        }
      ],
      "source": [
        "df_train.avg_score.value_counts()"
      ]
    },
    {
      "cell_type": "code",
      "execution_count": 5,
      "metadata": {
        "id": "h5qXjK9rZJRt"
      },
      "outputs": [],
      "source": [
        "df_train.drop(df_train[df_train['avg_score']==0.0].index, inplace=True)\n",
        "df_test.drop(df_test[df_test['avg_score']==0.0].index, inplace=True)"
      ]
    },
    {
      "cell_type": "code",
      "execution_count": 6,
      "metadata": {
        "id": "JRRv0JOmZJRu"
      },
      "outputs": [],
      "source": [
        "def cleaning_label(value):\n",
        "    if value>0:\n",
        "        return 2\n",
        "    if value < 0:\n",
        "        return 1\n",
        "\n",
        "df_train['label'] = df_train.avg_score.apply(cleaning_label)\n",
        "df_test['label'] = df_test.avg_score.apply(cleaning_label)"
      ]
    },
    {
      "cell_type": "code",
      "execution_count": 7,
      "metadata": {
        "id": "VfqdKfXnZJRu"
      },
      "outputs": [],
      "source": [
        "df_train.drop(columns=['avg_score'], inplace=True)\n",
        "df_test.drop(columns=['avg_score'], inplace=True)"
      ]
    },
    {
      "cell_type": "code",
      "execution_count": 8,
      "metadata": {
        "colab": {
          "base_uri": "https://localhost:8080/",
          "height": 206
        },
        "id": "8ziSLcMZZJRz",
        "outputId": "d801d10e-c23e-43ac-a3fa-866d676549e9"
      },
      "outputs": [
        {
          "data": {
            "text/html": [
              "<div>\n",
              "<style scoped>\n",
              "    .dataframe tbody tr th:only-of-type {\n",
              "        vertical-align: middle;\n",
              "    }\n",
              "\n",
              "    .dataframe tbody tr th {\n",
              "        vertical-align: top;\n",
              "    }\n",
              "\n",
              "    .dataframe thead th {\n",
              "        text-align: right;\n",
              "    }\n",
              "</style>\n",
              "<table border=\"1\" class=\"dataframe\">\n",
              "  <thead>\n",
              "    <tr style=\"text-align: right;\">\n",
              "      <th></th>\n",
              "      <th>domain</th>\n",
              "      <th>sentence</th>\n",
              "      <th>label</th>\n",
              "    </tr>\n",
              "  </thead>\n",
              "  <tbody>\n",
              "    <tr>\n",
              "      <th>0</th>\n",
              "      <td>news</td>\n",
              "      <td>Tang was employed at private-equity firm Fried...</td>\n",
              "      <td>1</td>\n",
              "    </tr>\n",
              "    <tr>\n",
              "      <th>1</th>\n",
              "      <td>news</td>\n",
              "      <td>San Francisco Mayor Gavin Newsom's withdrawal ...</td>\n",
              "      <td>2</td>\n",
              "    </tr>\n",
              "    <tr>\n",
              "      <th>2</th>\n",
              "      <td>answers</td>\n",
              "      <td>lol nothing worrying about that.</td>\n",
              "      <td>1</td>\n",
              "    </tr>\n",
              "    <tr>\n",
              "      <th>4</th>\n",
              "      <td>news</td>\n",
              "      <td>The prime minister is keen to use the autumn p...</td>\n",
              "      <td>2</td>\n",
              "    </tr>\n",
              "    <tr>\n",
              "      <th>5</th>\n",
              "      <td>blog</td>\n",
              "      <td>Those competencies include mastering fundament...</td>\n",
              "      <td>2</td>\n",
              "    </tr>\n",
              "  </tbody>\n",
              "</table>\n",
              "</div>"
            ],
            "text/plain": [
              "    domain                                           sentence  label\n",
              "0     news  Tang was employed at private-equity firm Fried...      1\n",
              "1     news  San Francisco Mayor Gavin Newsom's withdrawal ...      2\n",
              "2  answers                   lol nothing worrying about that.      1\n",
              "4     news  The prime minister is keen to use the autumn p...      2\n",
              "5     blog  Those competencies include mastering fundament...      2"
            ]
          },
          "execution_count": 8,
          "metadata": {},
          "output_type": "execute_result"
        }
      ],
      "source": [
        "df_train.head()"
      ]
    },
    {
      "cell_type": "code",
      "execution_count": 9,
      "metadata": {
        "colab": {
          "base_uri": "https://localhost:8080/",
          "height": 178
        },
        "id": "chVcurOqZJR0",
        "outputId": "5a03f064-a125-4c39-94c9-ec771bca8740"
      },
      "outputs": [
        {
          "data": {
            "text/plain": [
              "label\n",
              "2    4600\n",
              "1    4179\n",
              "Name: count, dtype: int64"
            ]
          },
          "execution_count": 9,
          "metadata": {},
          "output_type": "execute_result"
        }
      ],
      "source": [
        "df_train.label.value_counts()"
      ]
    },
    {
      "cell_type": "code",
      "execution_count": 10,
      "metadata": {
        "colab": {
          "base_uri": "https://localhost:8080/",
          "height": 178
        },
        "id": "9VRfsF_GZJR1",
        "outputId": "15300c16-ac70-4861-95e5-4eb9b3fcaf07"
      },
      "outputs": [
        {
          "data": {
            "text/plain": [
              "label\n",
              "2    1017\n",
              "1     876\n",
              "Name: count, dtype: int64"
            ]
          },
          "execution_count": 10,
          "metadata": {},
          "output_type": "execute_result"
        }
      ],
      "source": [
        "df_test.label.value_counts()"
      ]
    },
    {
      "cell_type": "code",
      "execution_count": 11,
      "metadata": {
        "colab": {
          "base_uri": "https://localhost:8080/"
        },
        "id": "Jx2AmZYEE3Ag",
        "outputId": "0e31be07-c09c-4137-c9d5-f21cef6e5a3f"
      },
      "outputs": [
        {
          "name": "stdout",
          "output_type": "stream",
          "text": [
            "label\n",
            "2    4179\n",
            "1    4179\n",
            "Name: count, dtype: int64\n"
          ]
        }
      ],
      "source": [
        "from sklearn.utils import resample\n",
        "\n",
        "majority_class = df_train['label'].value_counts().idxmax()\n",
        "minority_class = df_train['label'].value_counts().idxmin()\n",
        "\n",
        "dfs = [df_train[df_train['label'] == i] for i in df_train['label'].unique()]\n",
        "\n",
        "target_size = min(df_train['label'].value_counts())\n",
        "balanced_dfs = [resample(d, replace=False, n_samples=target_size, random_state=42) if len(d) > target_size else d for d in dfs]\n",
        "\n",
        "# Option 2: Oversample minority classes\n",
        "# target_size = max(df['label'].value_counts())  # Set target size as the size of the largest class\n",
        "# balanced_dfs = [resample(d, replace=True, n_samples=target_size, random_state=42) if len(d) < target_size else d for d in dfs]\n",
        "\n",
        "# Combine balanced subsets\n",
        "balanced_df = pd.concat(balanced_dfs)\n",
        "\n",
        "# Shuffle the dataset\n",
        "balanced_df = balanced_df.sample(frac=1, random_state=42).reset_index(drop=True)\n",
        "\n",
        "# Check new class distribution\n",
        "print(balanced_df['label'].value_counts())\n"
      ]
    },
    {
      "cell_type": "code",
      "execution_count": 12,
      "metadata": {
        "colab": {
          "base_uri": "https://localhost:8080/"
        },
        "id": "AagskqizE-dz",
        "outputId": "ded95a4e-92f8-4cda-c4dc-8297e456a18a"
      },
      "outputs": [
        {
          "name": "stdout",
          "output_type": "stream",
          "text": [
            "Text processing complete!\n"
          ]
        }
      ],
      "source": [
        "import re\n",
        "\n",
        "# Simple text cleaning function\n",
        "def simple_cleaning(text):\n",
        "    if not isinstance(text, str):  # Handle non-string entries\n",
        "        return \"\"\n",
        "    text = text.lower()  # Convert to lowercase\n",
        "    text = re.sub(r'[^\\w\\s]', '', text)  # Remove punctuation\n",
        "    text = re.sub(r'\\d+', '', text)  # Remove numbers\n",
        "    return text\n",
        "\n",
        "# Apply the function\n",
        "balanced_df['sentence'] = balanced_df['sentence'].apply(simple_cleaning)\n",
        "\n",
        "print(\"Text processing complete!\")\n"
      ]
    },
    {
      "cell_type": "code",
      "execution_count": 13,
      "metadata": {
        "colab": {
          "base_uri": "https://localhost:8080/"
        },
        "id": "Bun6xlq9E4zF",
        "outputId": "827a28ce-0e55-4183-8f21-4c67df55431c"
      },
      "outputs": [
        {
          "data": {
            "text/plain": [
              "(8328, 3)"
            ]
          },
          "execution_count": 13,
          "metadata": {},
          "output_type": "execute_result"
        }
      ],
      "source": [
        "balanced_df.dropna(inplace=True)\n",
        "balanced_df.drop_duplicates(subset=['sentence'],inplace=True)\n",
        "balanced_df.shape"
      ]
    },
    {
      "cell_type": "code",
      "execution_count": null,
      "metadata": {
        "colab": {
          "base_uri": "https://localhost:8080/",
          "height": 178
        },
        "id": "fuUon9IQE6ik",
        "outputId": "61a595c1-e9cd-4329-9cfa-b18c2aa99a23"
      },
      "outputs": [
        {
          "data": {
            "text/plain": [
              "domain      0\n",
              "sentence    0\n",
              "label       0\n",
              "dtype: int64"
            ]
          },
          "execution_count": 14,
          "metadata": {},
          "output_type": "execute_result"
        }
      ],
      "source": [
        "balanced_df.isnull().sum()"
      ]
    },
    {
      "cell_type": "code",
      "execution_count": 15,
      "metadata": {
        "id": "v9MKNQ7NE7uR"
      },
      "outputs": [],
      "source": [
        "balanced_df.drop(columns=['domain'],inplace = True)"
      ]
    },
    {
      "cell_type": "code",
      "execution_count": 16,
      "metadata": {
        "colab": {
          "base_uri": "https://localhost:8080/",
          "height": 206
        },
        "id": "PZ4D9v5rE8UA",
        "outputId": "d0799878-5579-40d0-c809-a16cf8ede9e5"
      },
      "outputs": [
        {
          "data": {
            "text/html": [
              "<div>\n",
              "<style scoped>\n",
              "    .dataframe tbody tr th:only-of-type {\n",
              "        vertical-align: middle;\n",
              "    }\n",
              "\n",
              "    .dataframe tbody tr th {\n",
              "        vertical-align: top;\n",
              "    }\n",
              "\n",
              "    .dataframe thead th {\n",
              "        text-align: right;\n",
              "    }\n",
              "</style>\n",
              "<table border=\"1\" class=\"dataframe\">\n",
              "  <thead>\n",
              "    <tr style=\"text-align: right;\">\n",
              "      <th></th>\n",
              "      <th>sentence</th>\n",
              "      <th>label</th>\n",
              "    </tr>\n",
              "  </thead>\n",
              "  <tbody>\n",
              "    <tr>\n",
              "      <th>0</th>\n",
              "      <td>he had even spent time online researching thei...</td>\n",
              "      <td>2</td>\n",
              "    </tr>\n",
              "    <tr>\n",
              "      <th>1</th>\n",
              "      <td>i like most of the bands you like</td>\n",
              "      <td>1</td>\n",
              "    </tr>\n",
              "    <tr>\n",
              "      <th>2</th>\n",
              "      <td>then get up to the top of the theater roof wit...</td>\n",
              "      <td>2</td>\n",
              "    </tr>\n",
              "    <tr>\n",
              "      <th>3</th>\n",
              "      <td>for all of this bulkeley was promoted to lieut...</td>\n",
              "      <td>2</td>\n",
              "    </tr>\n",
              "    <tr>\n",
              "      <th>4</th>\n",
              "      <td>a few weeks earlier one of lozanos family memb...</td>\n",
              "      <td>2</td>\n",
              "    </tr>\n",
              "  </tbody>\n",
              "</table>\n",
              "</div>"
            ],
            "text/plain": [
              "                                            sentence  label\n",
              "0  he had even spent time online researching thei...      2\n",
              "1                  i like most of the bands you like      1\n",
              "2  then get up to the top of the theater roof wit...      2\n",
              "3  for all of this bulkeley was promoted to lieut...      2\n",
              "4  a few weeks earlier one of lozanos family memb...      2"
            ]
          },
          "execution_count": 16,
          "metadata": {},
          "output_type": "execute_result"
        }
      ],
      "source": [
        "balanced_df.head()"
      ]
    },
    {
      "cell_type": "code",
      "execution_count": 17,
      "metadata": {
        "colab": {
          "base_uri": "https://localhost:8080/",
          "height": 178
        },
        "id": "Pv845GveFAVr",
        "outputId": "76841777-30a6-4962-91b6-1e8a77349337"
      },
      "outputs": [
        {
          "data": {
            "text/plain": [
              "label\n",
              "2    4171\n",
              "1    4157\n",
              "Name: count, dtype: int64"
            ]
          },
          "execution_count": 17,
          "metadata": {},
          "output_type": "execute_result"
        }
      ],
      "source": [
        "balanced_df.label.value_counts()"
      ]
    },
    {
      "cell_type": "code",
      "execution_count": 18,
      "metadata": {
        "id": "yrNdVeaEFT48"
      },
      "outputs": [],
      "source": [
        "balanced_df.to_csv(\"cleaned_dataset.csv\", index=False)"
      ]
    },
    {
      "cell_type": "code",
      "execution_count": 19,
      "metadata": {
        "colab": {
          "base_uri": "https://localhost:8080/"
        },
        "id": "GcEyPU8IFUvn",
        "outputId": "29ae6c9b-d92e-4496-a68d-4a7d3375d2d1"
      },
      "outputs": [
        {
          "data": {
            "text/plain": [
              "(8328, 2)"
            ]
          },
          "execution_count": 19,
          "metadata": {},
          "output_type": "execute_result"
        }
      ],
      "source": [
        "df1 = pd.read_csv(\"cleaned_dataset.csv\")\n",
        "df1.shape"
      ]
    },
    {
      "cell_type": "code",
      "execution_count": 20,
      "metadata": {
        "colab": {
          "base_uri": "https://localhost:8080/",
          "height": 147
        },
        "id": "dWFoE3UEFYen",
        "outputId": "66343beb-de14-446a-93aa-0fa4000136f8"
      },
      "outputs": [
        {
          "data": {
            "text/plain": [
              "sentence    1\n",
              "label       0\n",
              "dtype: int64"
            ]
          },
          "execution_count": 20,
          "metadata": {},
          "output_type": "execute_result"
        }
      ],
      "source": [
        "df1.isnull().sum()"
      ]
    },
    {
      "cell_type": "code",
      "execution_count": 21,
      "metadata": {
        "id": "H3L-TtH7Fbeu"
      },
      "outputs": [],
      "source": [
        "df1.dropna(inplace=True)"
      ]
    },
    {
      "cell_type": "code",
      "execution_count": 22,
      "metadata": {
        "colab": {
          "base_uri": "https://localhost:8080/"
        },
        "id": "rNEt-9JnFCN-",
        "outputId": "6b231b90-96c4-49b7-f60b-fa63824e2a22"
      },
      "outputs": [
        {
          "name": "stdout",
          "output_type": "stream",
          "text": [
            "Processed data saved successfully as 'processed_dataset.npz'.\n"
          ]
        }
      ],
      "source": [
        "from sklearn.model_selection import train_test_split\n",
        "from sklearn.feature_extraction.text import CountVectorizer\n",
        "from sklearn.preprocessing import StandardScaler\n",
        "\n",
        "# Separate features and target\n",
        "X = df1['sentence']  # Feature column\n",
        "y = df1['label']  # Target column\n",
        "\n",
        "# Vectorize the text data using TF-IDF\n",
        "vectorizer = CountVectorizer(max_features=10000)  # Adjust max_features as needed\n",
        "X_train_vectorized = vectorizer.fit_transform(X).toarray()\n",
        "X_test_vectorized = vectorizer.transform(df_test['sentence']).toarray()\n",
        "# Save the processed datasets into a single .npz file\n",
        "np.savez('processed_dataset.npz',\n",
        "         X_train=X_train_vectorized,\n",
        "         X_test=X_test_vectorized,\n",
        "         y_train=y,\n",
        "         y_test=df_test['label'])\n",
        "\n",
        "print(\"Processed data saved successfully as 'processed_dataset.npz'.\")\n"
      ]
    },
    {
      "cell_type": "code",
      "execution_count": 23,
      "metadata": {
        "colab": {
          "base_uri": "https://localhost:8080/"
        },
        "id": "A1Vj8FF6U1nG",
        "outputId": "a169f44d-a648-4139-a245-e6b899f2a60d"
      },
      "outputs": [
        {
          "name": "stdout",
          "output_type": "stream",
          "text": [
            "Original Data Shapes:\n",
            "X_train: (8327, 10000)\n",
            "X_test: (1893, 10000)\n",
            "y_train: (8327,)\n",
            "y_test: (1893,)\n"
          ]
        }
      ],
      "source": [
        "# Load the .npz file\n",
        "data = np.load('processed_dataset.npz')\n",
        "\n",
        "# Access the individual arrays\n",
        "X_train = data['X_train']\n",
        "X_test = data['X_test']\n",
        "y_train = data['y_train']\n",
        "y_test = data['y_test']\n",
        "\n",
        "# Print the shapes of the original dataset\n",
        "print(\"Original Data Shapes:\")\n",
        "print(\"X_train:\", X_train.shape)\n",
        "print(\"X_test:\", X_test.shape)\n",
        "print(\"y_train:\", y_train.shape)\n",
        "print(\"y_test:\", y_test.shape)\n",
        "\n",
        "# Reduce the dataset size by selecting a subset (e.g., 10%)\n",
        "# subset_size = int(0.5 * X_train.shape[0])  # 10% of the dataset\n",
        "# X_train_subsampled = X_train[:subset_size]\n",
        "# y_train_subsampled = y_train[:subset_size]\n",
        "\n",
        "# # Print the shapes of the reduced dataset\n",
        "# print(\"\\nReduced Data Shapes:\")\n",
        "# print(\"X_train_subsampled:\", X_train_subsampled.shape)\n",
        "# print(\"y_train_subsampled:\", y_train_subsampled.shape)\n",
        "\n",
        "# Now you can use the reduced dataset for training\n",
        "\n"
      ]
    },
    {
      "cell_type": "code",
      "execution_count": 24,
      "metadata": {
        "id": "5dZOB4anU1nI"
      },
      "outputs": [],
      "source": [
        "stratified_kfold = StratifiedKFold(n_splits=3, shuffle=True, random_state=42)"
      ]
    },
    {
      "cell_type": "code",
      "execution_count": 25,
      "metadata": {
        "colab": {
          "base_uri": "https://localhost:8080/",
          "height": 489
        },
        "id": "myQNMEkFU1nJ",
        "outputId": "445a12ce-a718-464c-e4e6-d229037ab4eb"
      },
      "outputs": [
        {
          "name": "stdout",
          "output_type": "stream",
          "text": [
            "Accuracy: 0.751716851558373\n"
          ]
        },
        {
          "data": {
            "image/png": "[encoded data removed]",
            "text/plain": [
              "<Figure size 640x480 with 2 Axes>"
            ]
          },
          "metadata": {},
          "output_type": "display_data"
        }
      ],
      "source": [
        "from sklearn.naive_bayes import MultinomialNB\n",
        "\n",
        "# Initialize and train Multinomial Naive Bayes\n",
        "model = MultinomialNB()\n",
        "model.fit(X_train_vectorized, y_train)\n",
        "\n",
        "# Make predictions\n",
        "y_pred = model.predict(X_test_vectorized)\n",
        "\n",
        "# Evaluate the model\n",
        "accuracy = accuracy_score(y_test, y_pred)\n",
        "print(\"Accuracy:\", accuracy)\n",
        "ConfusionMatrixDisplay.from_predictions(y_test, y_pred)\n",
        "plt.title(\"Confusion matrix for LogisticRegression\")\n",
        "plt.show()"
      ]
    },
    {
      "cell_type": "code",
      "execution_count": 26,
      "metadata": {
        "colab": {
          "base_uri": "https://localhost:8080/"
        },
        "id": "51BCPD47U1nJ",
        "outputId": "15115617-727d-4706-9547-544b6b8e6181"
      },
      "outputs": [
        {
          "name": "stdout",
          "output_type": "stream",
          "text": [
            "              precision    recall  f1-score   support\n",
            "\n",
            "           1       0.72      0.75      0.74       876\n",
            "           2       0.78      0.75      0.77      1017\n",
            "\n",
            "    accuracy                           0.75      1893\n",
            "   macro avg       0.75      0.75      0.75      1893\n",
            "weighted avg       0.75      0.75      0.75      1893\n",
            "\n"
          ]
        }
      ],
      "source": [
        "print(classification_report(y_test,y_pred))"
      ]
    },
    {
      "cell_type": "markdown",
      "metadata": {
        "id": "tTa21JZLJl1K"
      },
      "source": [
        "HYPER TUNING RF MODEL"
      ]
    },
    {
      "cell_type": "code",
      "execution_count": 27,
      "metadata": {
        "colab": {
          "base_uri": "https://localhost:8080/"
        },
        "id": "4BGOq3ZpffWY",
        "outputId": "c4ab2376-f7b9-4a11-f46c-2f3650d0af71"
      },
      "outputs": [
        {
          "name": "stdout",
          "output_type": "stream",
          "text": [
            "Best Parameters: {'alpha': np.float64(1.0)}\n",
            "Accuracy: 0.751716851558373\n",
            "Classification Report:\n",
            "               precision    recall  f1-score   support\n",
            "\n",
            "           1       0.72      0.75      0.74       876\n",
            "           2       0.78      0.75      0.77      1017\n",
            "\n",
            "    accuracy                           0.75      1893\n",
            "   macro avg       0.75      0.75      0.75      1893\n",
            "weighted avg       0.75      0.75      0.75      1893\n",
            "\n"
          ]
        }
      ],
      "source": [
        "from sklearn.model_selection import RandomizedSearchCV\n",
        "from sklearn.metrics import classification_report, accuracy_score\n",
        "import numpy as np\n",
        "\n",
        "# Define the hyperparameter space for alpha\n",
        "param_dist = {\n",
        "    'alpha': np.logspace(-3, 3, 7)  # Exploring values from 0.001 to 1000\n",
        "}\n",
        "\n",
        "# Initialize Multinomial Naive Bayes\n",
        "model = MultinomialNB()\n",
        "\n",
        "# Set up RandomizedSearchCV with 5-fold cross-validation\n",
        "random_search = RandomizedSearchCV(estimator=model, param_distributions=param_dist, n_iter=10, cv=5, scoring='accuracy', random_state=42)\n",
        "\n",
        "# Fit the randomized search to the data\n",
        "random_search.fit(X_train_vectorized, y_train)\n",
        "\n",
        "# Best parameters found by RandomizedSearchCV\n",
        "print(\"Best Parameters:\", random_search.best_params_)\n",
        "\n",
        "# Best model with the optimal hyperparameters\n",
        "best_model = random_search.best_estimator_\n",
        "\n",
        "# Make predictions with the best model\n",
        "y_pred = best_model.predict(X_test_vectorized)\n",
        "\n",
        "# Evaluate the best model\n",
        "accuracy = accuracy_score(y_test, y_pred)\n",
        "print(\"Accuracy:\", accuracy)\n",
        "print(\"Classification Report:\\n\", classification_report(y_test, y_pred))\n"
      ]
    },
    {
      "cell_type": "code",
      "execution_count": 28,
      "metadata": {
        "colab": {
          "base_uri": "https://localhost:8080/",
          "height": 472
        },
        "id": "oWm-w8VEgQr2",
        "outputId": "c9d0a1fb-7dda-4047-f5ba-a606065af570"
      },
      "outputs": [
        {
          "data": {
            "image/png": "[encoded data removed]",
            "text/plain": [
              "<Figure size 640x480 with 2 Axes>"
            ]
          },
          "metadata": {},
          "output_type": "display_data"
        }
      ],
      "source": [
        "ConfusionMatrixDisplay.from_predictions(y_test, y_pred)\n",
        "plt.title(\"Confusion matrix for Naive Bayes\")\n",
        "plt.show()"
      ]
    },
    {
      "cell_type": "code",
      "execution_count": 29,
      "metadata": {
        "colab": {
          "base_uri": "https://localhost:8080/"
        },
        "id": "tlf-mQC0U1nN",
        "outputId": "a5910a3d-5387-404e-e6e4-12eb5a295bc0"
      },
      "outputs": [
        {
          "data": {
            "text/plain": [
              "['formality.pkl']"
            ]
          },
          "execution_count": 29,
          "metadata": {},
          "output_type": "execute_result"
        }
      ],
      "source": [
        "import joblib\n",
        "\n",
        "joblib.dump(best_model, \"formality.pkl\")"
      ]
    },
    {
      "cell_type": "code",
      "execution_count": 30,
      "metadata": {
        "colab": {
          "base_uri": "https://localhost:8080/"
        },
        "id": "jVeiUsA8cA8Q",
        "outputId": "9081acf3-765c-467a-f9ae-5fe171e90f50"
      },
      "outputs": [
        {
          "ename": "NotFittedError",
          "evalue": "This MultinomialNB instance is not fitted yet. Call 'fit' with appropriate arguments before using this estimator.",
          "output_type": "error",
          "traceback": [
            "\u001b[1;31m---------------------------------------------------------------------------\u001b[0m",
            "\u001b[1;31mNotFittedError\u001b[0m                            Traceback (most recent call last)",
            "Cell \u001b[1;32mIn[30], line 13\u001b[0m\n\u001b[0;32m     11\u001b[0m \u001b[38;5;66;03m# Example usage\u001b[39;00m\n\u001b[0;32m     12\u001b[0m input_text \u001b[38;5;241m=\u001b[39m\u001b[38;5;124m\"\u001b[39m\u001b[38;5;124mI look forward to your response at your earliest convenience.\u001b[39m\u001b[38;5;124m\"\u001b[39m\n\u001b[1;32m---> 13\u001b[0m predicted_class \u001b[38;5;241m=\u001b[39m \u001b[43mpredict_input_text\u001b[49m\u001b[43m(\u001b[49m\u001b[43minput_text\u001b[49m\u001b[43m)\u001b[49m\n\u001b[0;32m     15\u001b[0m \u001b[38;5;28mprint\u001b[39m(\u001b[38;5;124mf\u001b[39m\u001b[38;5;124m\"\u001b[39m\u001b[38;5;124mPredicted Class: \u001b[39m\u001b[38;5;132;01m{\u001b[39;00mpredicted_class\u001b[38;5;132;01m}\u001b[39;00m\u001b[38;5;124m\"\u001b[39m)\n",
            "Cell \u001b[1;32mIn[30], line 7\u001b[0m, in \u001b[0;36mpredict_input_text\u001b[1;34m(input_text)\u001b[0m\n\u001b[0;32m      4\u001b[0m input_vector \u001b[38;5;241m=\u001b[39m vectorizer\u001b[38;5;241m.\u001b[39mtransform([input_text])\n\u001b[0;32m      6\u001b[0m \u001b[38;5;66;03m# Use the trained model to predict the class label\u001b[39;00m\n\u001b[1;32m----> 7\u001b[0m prediction \u001b[38;5;241m=\u001b[39m \u001b[43mmodel\u001b[49m\u001b[38;5;241;43m.\u001b[39;49m\u001b[43mpredict\u001b[49m\u001b[43m(\u001b[49m\u001b[43minput_vector\u001b[49m\u001b[43m)\u001b[49m\n\u001b[0;32m      9\u001b[0m \u001b[38;5;28;01mreturn\u001b[39;00m prediction[\u001b[38;5;241m0\u001b[39m]\n",
            "File \u001b[1;32mc:\\Users\\aksha\\AppData\\Local\\Programs\\Python\\Python312\\Lib\\site-packages\\sklearn\\naive_bayes.py:104\u001b[0m, in \u001b[0;36m_BaseNB.predict\u001b[1;34m(self, X)\u001b[0m\n\u001b[0;32m     90\u001b[0m \u001b[38;5;28;01mdef\u001b[39;00m\u001b[38;5;250m \u001b[39m\u001b[38;5;21mpredict\u001b[39m(\u001b[38;5;28mself\u001b[39m, X):\n\u001b[0;32m     91\u001b[0m \u001b[38;5;250m    \u001b[39m\u001b[38;5;124;03m\"\"\"\u001b[39;00m\n\u001b[0;32m     92\u001b[0m \u001b[38;5;124;03m    Perform classification on an array of test vectors X.\u001b[39;00m\n\u001b[0;32m     93\u001b[0m \n\u001b[1;32m   (...)\u001b[0m\n\u001b[0;32m    102\u001b[0m \u001b[38;5;124;03m        Predicted target values for X.\u001b[39;00m\n\u001b[0;32m    103\u001b[0m \u001b[38;5;124;03m    \"\"\"\u001b[39;00m\n\u001b[1;32m--> 104\u001b[0m     \u001b[43mcheck_is_fitted\u001b[49m\u001b[43m(\u001b[49m\u001b[38;5;28;43mself\u001b[39;49m\u001b[43m)\u001b[49m\n\u001b[0;32m    105\u001b[0m     X \u001b[38;5;241m=\u001b[39m \u001b[38;5;28mself\u001b[39m\u001b[38;5;241m.\u001b[39m_check_X(X)\n\u001b[0;32m    106\u001b[0m     jll \u001b[38;5;241m=\u001b[39m \u001b[38;5;28mself\u001b[39m\u001b[38;5;241m.\u001b[39m_joint_log_likelihood(X)\n",
            "File \u001b[1;32mc:\\Users\\aksha\\AppData\\Local\\Programs\\Python\\Python312\\Lib\\site-packages\\sklearn\\utils\\validation.py:1757\u001b[0m, in \u001b[0;36mcheck_is_fitted\u001b[1;34m(estimator, attributes, msg, all_or_any)\u001b[0m\n\u001b[0;32m   1754\u001b[0m     \u001b[38;5;28;01mreturn\u001b[39;00m\n\u001b[0;32m   1756\u001b[0m \u001b[38;5;28;01mif\u001b[39;00m \u001b[38;5;129;01mnot\u001b[39;00m _is_fitted(estimator, attributes, all_or_any):\n\u001b[1;32m-> 1757\u001b[0m     \u001b[38;5;28;01mraise\u001b[39;00m NotFittedError(msg \u001b[38;5;241m%\u001b[39m {\u001b[38;5;124m\"\u001b[39m\u001b[38;5;124mname\u001b[39m\u001b[38;5;124m\"\u001b[39m: \u001b[38;5;28mtype\u001b[39m(estimator)\u001b[38;5;241m.\u001b[39m\u001b[38;5;18m__name__\u001b[39m})\n",
            "\u001b[1;31mNotFittedError\u001b[0m: This MultinomialNB instance is not fitted yet. Call 'fit' with appropriate arguments before using this estimator."
          ]
        }
      ],
      "source": [
        "#informal : 1 formal : 2\n",
        "def predict_input_text(input_text):\n",
        "    # Transform the input text using the same vectorizer that was used during training\n",
        "    input_vector = vectorizer.transform([input_text])\n",
        "\n",
        "    # Use the trained model to predict the class label\n",
        "    prediction = model.predict(input_vector)\n",
        "\n",
        "    return prediction[0]  # Return the predicted label\n",
        "\n",
        "# Example usage\n",
        "input_text =\"I look forward to your response at your earliest convenience.\"\n",
        "predicted_class = predict_input_text(input_text)\n",
        "\n",
        "print(f\"Predicted Class: {predicted_class}\")"
      ]
    }
  ],
  "metadata": {
    "colab": {
      "provenance": []
    },
    "kernelspec": {
      "display_name": "Python 3",
      "name": "python3"
    },
    "language_info": {
      "codemirror_mode": {
        "name": "ipython",
        "version": 3
      },
      "file_extension": ".py",
      "mimetype": "text/x-python",
      "name": "python",
      "nbconvert_exporter": "python",
      "pygments_lexer": "ipython3",
      "version": "3.12.8"
    }
  },
  "nbformat": 4,
  "nbformat_minor": 0
}
